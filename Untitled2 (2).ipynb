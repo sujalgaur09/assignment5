{
 "cells": [
  {
   "cell_type": "code",
   "execution_count": 1,
   "id": "6661a218-0538-4796-9130-d374c9ca3e5f",
   "metadata": {},
   "outputs": [
    {
     "name": "stdout",
     "output_type": "stream",
     "text": [
      "ANSWER1\n"
     ]
    }
   ],
   "source": [
    "print(\"ANSWER1\")"
   ]
  },
  {
   "cell_type": "code",
   "execution_count": 9,
   "id": "1ca7e4b3-482f-4836-8501-67bdc8a40488",
   "metadata": {},
   "outputs": [],
   "source": [
    "class vehicle :\n",
    "    def __init__(self, name_of_vehicle , max_speed ,average_of_vehicle):\n",
    "        self.name_of_vehicle = name_of_vehicle\n",
    "        self.max_speed = max_speed\n",
    "        self.average_of_vehicle = average_of_vehicle"
   ]
  },
  {
   "cell_type": "code",
   "execution_count": 13,
   "id": "5ed5c70a-e727-4ca9-b0c2-4a0ae459b1cb",
   "metadata": {},
   "outputs": [],
   "source": [
    "v = vehicle(\"nano\" , 80 , 14) \n"
   ]
  },
  {
   "cell_type": "code",
   "execution_count": 15,
   "id": "8c95f7e3-1558-4e84-9357-f71e074a65f0",
   "metadata": {},
   "outputs": [
    {
     "data": {
      "text/plain": [
       "'nano'"
      ]
     },
     "execution_count": 15,
     "metadata": {},
     "output_type": "execute_result"
    }
   ],
   "source": [
    "v.name_of_vehicle"
   ]
  },
  {
   "cell_type": "code",
   "execution_count": 16,
   "id": "2a2f8a18-ff6c-4065-a604-12840a839617",
   "metadata": {},
   "outputs": [
    {
     "name": "stdout",
     "output_type": "stream",
     "text": [
      "answer2\n"
     ]
    }
   ],
   "source": [
    "print(\"answer2\")"
   ]
  },
  {
   "cell_type": "code",
   "execution_count": 11,
   "id": "18ee5b0d-662b-414e-a675-2144d3776c9d",
   "metadata": {},
   "outputs": [
    {
     "name": "stdout",
     "output_type": "stream",
     "text": [
      "('the sitting capacity of', 'ferrari', 'is', 2)\n"
     ]
    }
   ],
   "source": [
    "class vehicle :\n",
    "    def __init__(self, name_of_vehicle , max_speed ,average_of_vehicle):\n",
    "        self.name_of_vehicle = name_of_vehicle\n",
    "        self.max_speed = max_speed\n",
    "        self.average_of_vehicle = average_of_vehicle\n",
    "class car(vehicle):\n",
    "    def seatting_capacity(self, seating_capacity ):\n",
    "        return f\"the sitting capacity of\", self.name_of_vehicle , \"is\" , seating_capacity\n",
    "c = car(\"ferrari\" , 180 ,10)   \n",
    "print(c.seatting_capacity(2))"
   ]
  },
  {
   "cell_type": "code",
   "execution_count": 3,
   "id": "882ccbd2-f321-46ed-b397-2d980fa95ba9",
   "metadata": {},
   "outputs": [
    {
     "name": "stdout",
     "output_type": "stream",
     "text": [
      "answer3\n"
     ]
    }
   ],
   "source": [
    "print(\"answer3\")"
   ]
  },
  {
   "cell_type": "code",
   "execution_count": 68,
   "id": "cd6c7d97-3692-413c-a10d-3b3970aff91b",
   "metadata": {},
   "outputs": [
    {
     "name": "stdout",
     "output_type": "stream",
     "text": [
      "\n",
      "multiple inheritance\n",
      "When a class is derived from more than one base class it is called multiple Inheritance. The derived class inherits all the features of the base case.\n"
     ]
    }
   ],
   "source": [
    "print(\"\"\"\n",
    "multiple inheritance\n",
    "When a class is derived from more than one base class it is called multiple Inheritance. The derived class inherits all the features of the base case.\"\"\")"
   ]
  },
  {
   "cell_type": "code",
   "execution_count": 69,
   "id": "e4749973-a6de-4af3-aa64-ee09b6d686b7",
   "metadata": {},
   "outputs": [],
   "source": [
    "#example of multiple inheritance\n",
    "class class1:\n",
    "    def test_class1(self):\n",
    "        return \"this is class 1\""
   ]
  },
  {
   "cell_type": "code",
   "execution_count": 70,
   "id": "08edd5af-efd0-4f7b-98ec-6e478b0f53ff",
   "metadata": {},
   "outputs": [],
   "source": [
    "class class2:\n",
    "    def test_class2(self):\n",
    "        return \"this is class 2 \""
   ]
  },
  {
   "cell_type": "code",
   "execution_count": 72,
   "id": "44792f83-d240-465a-a721-88fd1f456ac1",
   "metadata": {},
   "outputs": [],
   "source": [
    "class class3(class1 , class2):\n",
    "    pass"
   ]
  },
  {
   "cell_type": "code",
   "execution_count": 78,
   "id": "d9f33cb1-71e6-4334-8cb1-844a00b44e1a",
   "metadata": {},
   "outputs": [],
   "source": [
    "object_class3 = class3()"
   ]
  },
  {
   "cell_type": "code",
   "execution_count": 79,
   "id": "df99f4e4-c7f8-426f-9b16-20ccdc262429",
   "metadata": {},
   "outputs": [
    {
     "data": {
      "text/plain": [
       "'this is class 1'"
      ]
     },
     "execution_count": 79,
     "metadata": {},
     "output_type": "execute_result"
    }
   ],
   "source": [
    "object_class3.test_class1()"
   ]
  },
  {
   "cell_type": "code",
   "execution_count": 80,
   "id": "6d49038f-3ad2-4957-b88b-48089bbff53c",
   "metadata": {},
   "outputs": [
    {
     "data": {
      "text/plain": [
       "'this is class 2 '"
      ]
     },
     "execution_count": 80,
     "metadata": {},
     "output_type": "execute_result"
    }
   ],
   "source": [
    "object_class3.test_class2()"
   ]
  },
  {
   "cell_type": "code",
   "execution_count": 81,
   "id": "46123f7b-9507-41a0-b162-a19b58f0ac02",
   "metadata": {},
   "outputs": [
    {
     "name": "stdout",
     "output_type": "stream",
     "text": [
      "ANSWER4\n"
     ]
    }
   ],
   "source": [
    "print(\"ANSWER4\")"
   ]
  },
  {
   "cell_type": "code",
   "execution_count": 82,
   "id": "227c347b-24b5-4dd9-a3c8-6ce2fefa9eb9",
   "metadata": {},
   "outputs": [
    {
     "name": "stdout",
     "output_type": "stream",
     "text": [
      "\n",
      "GETTER:These are the methods used in Object-Oriented Programming (OOPS) which helps to access the private attributes from a class.\n",
      "SETTER: These are the methods used in OOPS feature which helps to set the value to private attributes in a class.\n"
     ]
    }
   ],
   "source": [
    "print(\"\"\"\n",
    "GETTER:These are the methods used in Object-Oriented Programming (OOPS) which helps to access the private attributes from a class.\n",
    "SETTER: These are the methods used in OOPS feature which helps to set the value to private attributes in a class.\"\"\")"
   ]
  },
  {
   "cell_type": "code",
   "execution_count": 83,
   "id": "69bcbdf6-62bb-47ca-9431-bf7e3cde5b79",
   "metadata": {},
   "outputs": [],
   "source": [
    "class account :\n",
    "    def __init__(self, name , price ,tax):\n",
    "        self.__name = name\n",
    "        self.__price = price\n",
    "        self.__tax = tax\n",
    "    def set_tax(self, tax):\n",
    "        self.__tax = tax \n",
    "    def get_tax(self):\n",
    "        return self.__tax\n",
    "        \n",
    "        "
   ]
  },
  {
   "cell_type": "code",
   "execution_count": 85,
   "id": "35a43d7d-b133-4b2a-8e2c-94f539bebeea",
   "metadata": {},
   "outputs": [],
   "source": [
    "a = account (\"clothes\" , 500 , 7)"
   ]
  },
  {
   "cell_type": "code",
   "execution_count": 86,
   "id": "a621cdf5-090f-420f-8d0d-df954c03c60c",
   "metadata": {},
   "outputs": [],
   "source": [
    "a.set_tax(18)"
   ]
  },
  {
   "cell_type": "code",
   "execution_count": 87,
   "id": "8e7c0b31-1b34-4b86-94a8-d09679808b7d",
   "metadata": {},
   "outputs": [
    {
     "data": {
      "text/plain": [
       "18"
      ]
     },
     "execution_count": 87,
     "metadata": {},
     "output_type": "execute_result"
    }
   ],
   "source": [
    "a.get_tax()"
   ]
  },
  {
   "cell_type": "code",
   "execution_count": 89,
   "id": "e644b4d8-0950-4a28-adff-5dad9135f88e",
   "metadata": {},
   "outputs": [
    {
     "name": "stdout",
     "output_type": "stream",
     "text": [
      "answer5\n",
      "Method overriding is an ability of any object-oriented programming language that allows a subclass or child class to provide a specific implementation of a method that is already provided by one of its super-classes or parent classes. When a method in a subclass has the same name, same parameters or signature and same return type(or sub-type) as a method in its super-class, then the method in the subclass is said to override the method in the super-class.\n",
      "The version of a method that is executed will be determined by the object that is used to invoke it. If an object of a parent class is used to invoke the method, then the version in the parent class will be executed, but if an object of the subclass is used to invoke the method, then the version in the child class will be executed.\n",
      "\n"
     ]
    }
   ],
   "source": [
    "print(\"\"\"answer5\n",
    "Method overriding is an ability of any object-oriented programming language that allows a subclass or child class to provide a specific implementation of a method that is already provided by one of its super-classes or parent classes. When a method in a subclass has the same name, same parameters or signature and same return type(or sub-type) as a method in its super-class, then the method in the subclass is said to override the method in the super-class.\n",
    "The version of a method that is executed will be determined by the object that is used to invoke it. If an object of a parent class is used to invoke the method, then the version in the parent class will be executed, but if an object of the subclass is used to invoke the method, then the version in the child class will be executed.\n",
    "\"\"\")"
   ]
  },
  {
   "cell_type": "code",
   "execution_count": 126,
   "id": "f29b9759-a525-4259-9bd5-213611c4679c",
   "metadata": {},
   "outputs": [],
   "source": [
    "##example\n",
    "class parent():\n",
    "    def __init__(self):\n",
    "        self.value = \"inside_parent\"\n",
    "    def show(self):\n",
    "        print(self.value)\n",
    "class child(parent):\n",
    "    def __init__(self):\n",
    "        self.value = \"inside_child\"\n",
    "    def show(self):\n",
    "        print(self.value)\n"
   ]
  },
  {
   "cell_type": "code",
   "execution_count": 127,
   "id": "346b09ea-b096-4bb8-b840-dbe4b06b2bf7",
   "metadata": {},
   "outputs": [],
   "source": [
    "obj1 = parent()"
   ]
  },
  {
   "cell_type": "code",
   "execution_count": 128,
   "id": "6deafcb4-47cc-4d89-84e5-a2c94f6dc8fe",
   "metadata": {},
   "outputs": [],
   "source": [
    "obj2 = child()"
   ]
  },
  {
   "cell_type": "code",
   "execution_count": 129,
   "id": "30aac10b-cd61-457f-9a7c-e7fbbce29d77",
   "metadata": {},
   "outputs": [
    {
     "name": "stdout",
     "output_type": "stream",
     "text": [
      "inside_parent\n"
     ]
    }
   ],
   "source": [
    "obj1.show()"
   ]
  },
  {
   "cell_type": "code",
   "execution_count": 130,
   "id": "b49593dc-385d-424a-bd3a-0ea9adfbd8b5",
   "metadata": {},
   "outputs": [
    {
     "name": "stdout",
     "output_type": "stream",
     "text": [
      "inside_child\n"
     ]
    }
   ],
   "source": [
    "obj2.show()"
   ]
  },
  {
   "cell_type": "code",
   "execution_count": null,
   "id": "7b98522c-d79c-4305-8701-47e321ccb207",
   "metadata": {},
   "outputs": [],
   "source": []
  }
 ],
 "metadata": {
  "kernelspec": {
   "display_name": "Python 3 (ipykernel)",
   "language": "python",
   "name": "python3"
  },
  "language_info": {
   "codemirror_mode": {
    "name": "ipython",
    "version": 3
   },
   "file_extension": ".py",
   "mimetype": "text/x-python",
   "name": "python",
   "nbconvert_exporter": "python",
   "pygments_lexer": "ipython3",
   "version": "3.10.8"
  }
 },
 "nbformat": 4,
 "nbformat_minor": 5
}
